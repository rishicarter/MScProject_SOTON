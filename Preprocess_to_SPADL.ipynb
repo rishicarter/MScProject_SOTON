{
  "nbformat": 4,
  "nbformat_minor": 0,
  "metadata": {
    "colab": {
      "name": "Preprocess_to_SPADL.ipynb",
      "provenance": [],
      "collapsed_sections": [],
      "authorship_tag": "ABX9TyPQHorjgxTr7Uxk/F4de7h9",
      "include_colab_link": true
    },
    "kernelspec": {
      "name": "python3",
      "display_name": "Python 3"
    },
    "language_info": {
      "name": "python"
    }
  },
  "cells": [
    {
      "cell_type": "markdown",
      "metadata": {
        "id": "view-in-github",
        "colab_type": "text"
      },
      "source": [
        "<a href=\"https://colab.research.google.com/github/rishicarter/MScProject_SOTON/blob/main/Preprocess_to_SPADL.ipynb\" target=\"_parent\"><img src=\"https://colab.research.google.com/assets/colab-badge.svg\" alt=\"Open In Colab\"/></a>"
      ]
    },
    {
      "cell_type": "markdown",
      "source": [
        "# AIM\n",
        "---\n",
        "\n",
        "1. Download the Wyscout dataset and preprocess the relevant data.\n",
        "2. Value game states by training predictive machine learning models.\n",
        "  * Compute descriptive features for each game state.\n",
        "  * Obtain labels for each game state (i.e., Goal scored within next ten actions? Goal conceded within next ten actions?)\n",
        "3. Value on-the-ball actions by using the trained predictive machine learning models.\n",
        "4. Rate players by aggregating the values of their on-the-ball actions.\n"
      ],
      "metadata": {
        "id": "jq1kl2JWX4nZ"
      }
    },
    {
      "cell_type": "markdown",
      "source": [
        "# Imports and requirements"
      ],
      "metadata": {
        "id": "7zT5aJ7t2Ui-"
      }
    },
    {
      "cell_type": "code",
      "source": [
        "!pip install tables==3.6.1\n",
        "!pip install socceraction==0.2.0"
      ],
      "metadata": {
        "colab": {
          "base_uri": "https://localhost:8080/"
        },
        "id": "8_V7u1nq5bB_",
        "outputId": "0cf4ad05-3dc6-4374-b90c-aec36d14b4de"
      },
      "execution_count": null,
      "outputs": [
        {
          "output_type": "stream",
          "name": "stdout",
          "text": [
            "Looking in indexes: https://pypi.org/simple, https://us-python.pkg.dev/colab-wheels/public/simple/\n",
            "Collecting tables==3.6.1\n",
            "  Downloading tables-3.6.1-cp37-cp37m-manylinux1_x86_64.whl (4.3 MB)\n",
            "\u001b[K     |████████████████████████████████| 4.3 MB 5.3 MB/s \n",
            "\u001b[?25hRequirement already satisfied: numexpr>=2.6.2 in /usr/local/lib/python3.7/dist-packages (from tables==3.6.1) (2.8.3)\n",
            "Requirement already satisfied: numpy>=1.9.3 in /usr/local/lib/python3.7/dist-packages (from tables==3.6.1) (1.21.6)\n",
            "Requirement already satisfied: packaging in /usr/local/lib/python3.7/dist-packages (from numexpr>=2.6.2->tables==3.6.1) (21.3)\n",
            "Requirement already satisfied: pyparsing!=3.0.5,>=2.0.2 in /usr/local/lib/python3.7/dist-packages (from packaging->numexpr>=2.6.2->tables==3.6.1) (3.0.9)\n",
            "Installing collected packages: tables\n",
            "  Attempting uninstall: tables\n",
            "    Found existing installation: tables 3.7.0\n",
            "    Uninstalling tables-3.7.0:\n",
            "      Successfully uninstalled tables-3.7.0\n",
            "Successfully installed tables-3.6.1\n",
            "Looking in indexes: https://pypi.org/simple, https://us-python.pkg.dev/colab-wheels/public/simple/\n",
            "Collecting socceraction==0.2.0\n",
            "  Downloading socceraction-0.2.0.tar.gz (28 kB)\n",
            "Requirement already satisfied: tqdm in /usr/local/lib/python3.7/dist-packages (from socceraction==0.2.0) (4.64.0)\n",
            "Requirement already satisfied: pandas in /usr/local/lib/python3.7/dist-packages (from socceraction==0.2.0) (1.3.5)\n",
            "Requirement already satisfied: numpy in /usr/local/lib/python3.7/dist-packages (from socceraction==0.2.0) (1.21.6)\n",
            "Collecting unidecode\n",
            "  Downloading Unidecode-1.3.4-py3-none-any.whl (235 kB)\n",
            "\u001b[K     |████████████████████████████████| 235 kB 8.3 MB/s \n",
            "\u001b[?25hRequirement already satisfied: requests in /usr/local/lib/python3.7/dist-packages (from socceraction==0.2.0) (2.23.0)\n",
            "Requirement already satisfied: python-dateutil>=2.7.3 in /usr/local/lib/python3.7/dist-packages (from pandas->socceraction==0.2.0) (2.8.2)\n",
            "Requirement already satisfied: pytz>=2017.3 in /usr/local/lib/python3.7/dist-packages (from pandas->socceraction==0.2.0) (2022.1)\n",
            "Requirement already satisfied: six>=1.5 in /usr/local/lib/python3.7/dist-packages (from python-dateutil>=2.7.3->pandas->socceraction==0.2.0) (1.15.0)\n",
            "Requirement already satisfied: chardet<4,>=3.0.2 in /usr/local/lib/python3.7/dist-packages (from requests->socceraction==0.2.0) (3.0.4)\n",
            "Requirement already satisfied: idna<3,>=2.5 in /usr/local/lib/python3.7/dist-packages (from requests->socceraction==0.2.0) (2.10)\n",
            "Requirement already satisfied: urllib3!=1.25.0,!=1.25.1,<1.26,>=1.21.1 in /usr/local/lib/python3.7/dist-packages (from requests->socceraction==0.2.0) (1.24.3)\n",
            "Requirement already satisfied: certifi>=2017.4.17 in /usr/local/lib/python3.7/dist-packages (from requests->socceraction==0.2.0) (2022.6.15)\n",
            "Building wheels for collected packages: socceraction\n",
            "  Building wheel for socceraction (setup.py) ... \u001b[?25l\u001b[?25hdone\n",
            "  Created wheel for socceraction: filename=socceraction-0.2.0-py3-none-any.whl size=30656 sha256=aba78164808c7eefb3c616174d0431dcba553f835185b131829c19e8ee8558be\n",
            "  Stored in directory: /root/.cache/pip/wheels/ad/b6/3c/8ae71bd96f4cc8ae86a4ee1fdbd7a6e29fc1e59cec98a543a6\n",
            "Successfully built socceraction\n",
            "Installing collected packages: unidecode, socceraction\n",
            "Successfully installed socceraction-0.2.0 unidecode-1.3.4\n"
          ]
        }
      ]
    },
    {
      "cell_type": "code",
      "source": [
        "from google.colab import drive\n",
        "drive.mount('/content/gdrive')\n",
        "# %mkdir -p '/content/gdrive/MyDrive/MSC_Project/FOT_VAEP/'\n",
        "%cd '/content/gdrive/MyDrive/MSC_Project/FOT_VAEP/'\n",
        "%pwd"
      ],
      "metadata": {
        "colab": {
          "base_uri": "https://localhost:8080/",
          "height": 72
        },
        "id": "O29Bw2372jB6",
        "outputId": "31894e67-c63d-480b-dc4b-cd463852df2b"
      },
      "execution_count": null,
      "outputs": [
        {
          "output_type": "stream",
          "name": "stdout",
          "text": [
            "Mounted at /content/gdrive\n",
            "/content/gdrive/MyDrive/MSC_Project/FOT_VAEP\n"
          ]
        },
        {
          "output_type": "execute_result",
          "data": {
            "text/plain": [
              "'/content/gdrive/MyDrive/MSC_Project/FOT_VAEP'"
            ],
            "application/vnd.google.colaboratory.intrinsic+json": {
              "type": "string"
            }
          },
          "metadata": {},
          "execution_count": 2
        }
      ]
    },
    {
      "cell_type": "code",
      "source": [
        "# Imports\n",
        "import numpy as np\n",
        "import pandas as pd\n",
        "import matplotlib.pyplot as plt\n",
        "import os\n",
        "\n",
        "import warnings\n",
        "from io import BytesIO\n",
        "from pathlib import Path\n",
        "from urllib.parse import urlparse\n",
        "from urllib.request import urlopen, urlretrieve\n",
        "from zipfile import ZipFile, is_zipfile\n",
        "\n",
        "import socceraction.vaep.features as features\n",
        "import socceraction.vaep.labels as labels\n",
        "from sklearn.metrics import brier_score_loss, roc_auc_score\n",
        "from socceraction.spadl.wyscout import convert_to_spadl\n",
        "from socceraction.vaep.formula import value\n",
        "from tqdm import tqdm\n",
        "from xgboost import XGBClassifier"
      ],
      "metadata": {
        "id": "AviFJDvS215r"
      },
      "execution_count": null,
      "outputs": []
    },
    {
      "cell_type": "code",
      "source": [
        "warnings.filterwarnings('ignore', category=pd.io.pytables.PerformanceWarning)"
      ],
      "metadata": {
        "id": "hTRNkjX96gun"
      },
      "execution_count": null,
      "outputs": []
    },
    {
      "cell_type": "code",
      "source": [
        "# Functions\n",
        "def read_json_file(filename):\n",
        "  '''\n",
        "  The read_json_file function reads and returns the content of a given JSON file. \n",
        "  The function handles the encoding of special characters \n",
        "  (e.g., accents in names of players and teams) that the pd.read_json function \n",
        "  cannot handle properly.\n",
        "  '''\n",
        "  with open(filename,'rb') as json_file:\n",
        "    return BytesIO(json_file.read()).getvalue().decode('unicode_escape')"
      ],
      "metadata": {
        "id": "QODiuXn1B4fx"
      },
      "execution_count": null,
      "outputs": []
    },
    {
      "cell_type": "markdown",
      "source": [
        "# Data Download and preprocess\n",
        "---\n",
        "1. Download the Wyscout dataset;\n",
        "2. Construct an HDF5 file named wyscout.h5 that contains the relevant information from the dataset;\n",
        "3. Convert the wyscout.h5 file into a spadl.h5 file that contains the same information in the SPADL representation.\n",
        "\n"
      ],
      "metadata": {
        "id": "NS6Kkk0w60QE"
      }
    },
    {
      "cell_type": "markdown",
      "source": [
        "## Download the Wyscout dataset"
      ],
      "metadata": {
        "id": "m7xoL8hJA6Hj"
      }
    },
    {
      "cell_type": "code",
      "source": [
        "data_files = {\n",
        "    'events': 'https://ndownloader.figshare.com/files/14464685',  # ZIP file containing one JSON file for each competition\n",
        "    'matches': 'https://ndownloader.figshare.com/files/14464622',  # ZIP file containing one JSON file for each competition\n",
        "    'players': 'https://ndownloader.figshare.com/files/15073721',  # JSON file\n",
        "    'teams': 'https://ndownloader.figshare.com/files/15073697'  # JSON file\n",
        "}"
      ],
      "metadata": {
        "id": "-6SadYTn7MzJ"
      },
      "execution_count": null,
      "outputs": []
    },
    {
      "cell_type": "code",
      "source": [
        "# for url in data_files.values():\n",
        "#   url_s3 = urlopen(url).geturl()\n",
        "#   path = Path(urlparse(url_s3).path)\n",
        "#   file_name=path.name\n",
        "#   file_local, _ = urlretrieve(url_s3,file_name)\n",
        "#   if is_zipfile(file_local):\n",
        "#     with ZipFile(file_local) as zip_file:\n",
        "#       zip_file.extractall()"
      ],
      "metadata": {
        "id": "pBJKzQkC9TLP"
      },
      "execution_count": null,
      "outputs": []
    },
    {
      "cell_type": "markdown",
      "source": [
        "## Preprocess data"
      ],
      "metadata": {
        "id": "lDHOUwb89T2V"
      }
    },
    {
      "cell_type": "markdown",
      "source": [
        "### Teams"
      ],
      "metadata": {
        "id": "IXskvOWmCcta"
      }
    },
    {
      "cell_type": "code",
      "source": [
        "json_teams = read_json_file('teams.json')\n",
        "df_teams = pd.read_json(json_teams)\n",
        "df_teams.head(5)"
      ],
      "metadata": {
        "id": "oo0741Lq9T6Z"
      },
      "execution_count": null,
      "outputs": []
    },
    {
      "cell_type": "code",
      "source": [
        "df_teams.to_hdf('wyscout.h5', key='teams', mode='w')"
      ],
      "metadata": {
        "id": "B232a6CzA-mf"
      },
      "execution_count": null,
      "outputs": []
    },
    {
      "cell_type": "markdown",
      "source": [
        "### Players"
      ],
      "metadata": {
        "id": "LqL5dCzKA-qU"
      }
    },
    {
      "cell_type": "code",
      "source": [
        "json_players=read_json_file('players.json')\n",
        "df_players=pd.read_json(json_players)\n",
        "df_players.head(5)"
      ],
      "metadata": {
        "id": "-9B3tUEQA-uC"
      },
      "execution_count": null,
      "outputs": []
    },
    {
      "cell_type": "code",
      "source": [
        "df_players.to_hdf('wyscout.h5', key='players', mode='a')"
      ],
      "metadata": {
        "id": "GtxJ5KQj9T96"
      },
      "execution_count": null,
      "outputs": []
    },
    {
      "cell_type": "markdown",
      "source": [
        "### Matches"
      ],
      "metadata": {
        "id": "-vl0Rg1CDGRp"
      }
    },
    {
      "cell_type": "code",
      "source": [
        "matches=[]\n",
        "for x in tqdm(os.listdir()):\n",
        "  if x.startswith('matches_'):\n",
        "    json_matches=read_json_file(x)\n",
        "    df_matches=pd.read_json(json_matches)\n",
        "    matches.append(df_matches)\n",
        "df_matches=pd.concat(matches)"
      ],
      "metadata": {
        "colab": {
          "base_uri": "https://localhost:8080/"
        },
        "id": "S2_n99LfDOEF",
        "outputId": "0ce781e1-bc9f-4d32-b9ea-e22bc8d21b9f"
      },
      "execution_count": null,
      "outputs": [
        {
          "output_type": "stream",
          "name": "stderr",
          "text": [
            "100%|██████████| 19/19 [00:01<00:00, 18.15it/s]\n"
          ]
        }
      ]
    },
    {
      "cell_type": "code",
      "source": [
        "df_matches.columns"
      ],
      "metadata": {
        "id": "miadOr4RDOpT"
      },
      "execution_count": null,
      "outputs": []
    },
    {
      "cell_type": "code",
      "source": [
        "df_matches.to_hdf('wyscout.h5', key='matches', mode='a')"
      ],
      "metadata": {
        "id": "a3SwDB2EDOtN"
      },
      "execution_count": null,
      "outputs": []
    },
    {
      "cell_type": "markdown",
      "source": [
        "### Events"
      ],
      "metadata": {
        "id": "Wpkjl_mYDOwL"
      }
    },
    {
      "cell_type": "code",
      "source": [
        "events=[]\n",
        "for x in tqdm(os.listdir()):\n",
        "  if x.startswith('events_'):\n",
        "    json_events=read_json_file(x)\n",
        "    df_events=pd.read_json(json_events)\n",
        "    df_events_matches = df_events.groupby('matchId', as_index=False)\n",
        "    for match_id, df_events_match in df_events_matches:\n",
        "      df_events_match.to_hdf('wyscout.h5', key=f'events/match_{match_id}', mode='a')"
      ],
      "metadata": {
        "colab": {
          "base_uri": "https://localhost:8080/"
        },
        "id": "MsUOIkplGhb8",
        "outputId": "1808d3b6-159e-4938-c2ec-6f758c34832a"
      },
      "execution_count": null,
      "outputs": [
        {
          "output_type": "stream",
          "name": "stderr",
          "text": [
            "100%|██████████| 19/19 [16:02<00:00, 50.64s/it]\n"
          ]
        }
      ]
    },
    {
      "cell_type": "markdown",
      "source": [
        "### Convert Wyscout data to SPADL representation"
      ],
      "metadata": {
        "id": "R5l0-xHbGhoQ"
      }
    },
    {
      "cell_type": "code",
      "source": [
        "convert_to_spadl('wyscout.h5', 'spadl.h5')"
      ],
      "metadata": {
        "colab": {
          "base_uri": "https://localhost:8080/"
        },
        "id": "d597Nd9hGhsI",
        "outputId": "8c77e76c-7c6b-42cb-e2d8-d40867134e24"
      },
      "execution_count": null,
      "outputs": [
        {
          "output_type": "stream",
          "name": "stdout",
          "text": [
            "...Inserting actiontypes\n",
            "...Inserting bodyparts\n",
            "...Inserting results\n",
            "...Converting games\n",
            "...Converting players\n",
            "...Converting teams\n",
            "...Generating player_games\n"
          ]
        },
        {
          "output_type": "stream",
          "name": "stderr",
          "text": [
            "100%|██████████| 1941/1941 [04:14<00:00,  7.62game/s]\n"
          ]
        },
        {
          "output_type": "stream",
          "name": "stdout",
          "text": [
            "...Converting events to actions\n"
          ]
        },
        {
          "output_type": "stream",
          "name": "stderr",
          "text": [
            "100%|██████████| 1941/1941 [32:30<00:00,  1.01s/game]\n"
          ]
        }
      ]
    },
    {
      "cell_type": "code",
      "source": [
        ""
      ],
      "metadata": {
        "id": "L4bzeuPLGhv4"
      },
      "execution_count": null,
      "outputs": []
    },
    {
      "cell_type": "code",
      "source": [
        ""
      ],
      "metadata": {
        "id": "DOVn9RyPGhzS"
      },
      "execution_count": null,
      "outputs": []
    }
  ]
}